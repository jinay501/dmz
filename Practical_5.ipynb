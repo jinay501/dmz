{
 "cells": [
  {
   "cell_type": "code",
   "execution_count": null,
   "metadata": {
    "id": "JpNr0n-B122C"
   },
   "outputs": [],
   "source": [
    "import numpy as np"
   ]
  },
  {
   "cell_type": "code",
   "execution_count": null,
   "metadata": {
    "colab": {
     "base_uri": "https://localhost:8080/"
    },
    "id": "WkT8-PU4bqkz",
    "outputId": "2f065792-5118-4123-a1c3-ff916e5c275e"
   },
   "outputs": [
    {
     "name": "stdout",
     "output_type": "stream",
     "text": [
      "AND(0, 0) = 0\n",
      "AND(0, 1) = 0\n",
      "AND(1, 0) = 0\n",
      "AND(1, 1) = 1\n"
     ]
    }
   ],
   "source": [
    "inputs = [[0, 0], [0, 1], [1, 0], [1, 1]]\n",
    "weights = [1, 1]\n",
    "bias = -1.5\n",
    "\n",
    "for i in range(len(inputs)):\n",
    "    v = np.dot(inputs[i], weights) + bias\n",
    "    \n",
    "    if (v >= 0):\n",
    "      y = 1\n",
    "    else:\n",
    "      y = 0\n",
    "\n",
    "    print(\"AND({}, {}) = {}\".format(inputs[i][0], inputs[i][1], y))\n"
   ]
  },
  {
   "cell_type": "code",
   "execution_count": null,
   "metadata": {
    "colab": {
     "base_uri": "https://localhost:8080/"
    },
    "id": "Ck1ZulPebur3",
    "outputId": "20bd4e89-18a3-45f3-94aa-185fa368ea9b"
   },
   "outputs": [
    {
     "name": "stdout",
     "output_type": "stream",
     "text": [
      "OR(0, 0) = 0\n",
      "OR(0, 1) = 1\n",
      "OR(1, 0) = 1\n",
      "OR(1, 1) = 1\n"
     ]
    }
   ],
   "source": [
    "inputs = [[0, 0], [0, 1], [1, 0], [1, 1]]\n",
    "weights = [1, 1]\n",
    "bias = -0.5\n",
    "\n",
    "for i in range(len(inputs)):\n",
    "    v = np.dot(inputs[i], weights) + bias\n",
    "\n",
    "    if (v >= 0):\n",
    "      y = 1\n",
    "    else:\n",
    "      y = 0\n",
    "      \n",
    "    print(\"OR({}, {}) = {}\".format(inputs[i][0], inputs[i][1], y))\n"
   ]
  },
  {
   "cell_type": "code",
   "execution_count": null,
   "metadata": {
    "id": "VYw4VAWzbyUq"
   },
   "outputs": [],
   "source": []
  }
 ],
 "metadata": {
  "colab": {
   "provenance": []
  },
  "kernelspec": {
   "display_name": "Python 3 (ipykernel)",
   "language": "python",
   "name": "python3"
  },
  "language_info": {
   "codemirror_mode": {
    "name": "ipython",
    "version": 3
   },
   "file_extension": ".py",
   "mimetype": "text/x-python",
   "name": "python",
   "nbconvert_exporter": "python",
   "pygments_lexer": "ipython3",
   "version": "3.9.7"
  }
 },
 "nbformat": 4,
 "nbformat_minor": 1
}
