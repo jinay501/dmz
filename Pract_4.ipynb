{
 "cells": [
  {
   "cell_type": "code",
   "execution_count": 421,
   "metadata": {
    "id": "tXIja2u8uQXT"
   },
   "outputs": [],
   "source": [
    "import numpy as np\n",
    "import pandas as pd\n",
    "import matplotlib.pyplot as plt\n",
    "import seaborn as sns\n",
    "\n",
    "# we will ignore pandas warning \n",
    "import warnings\n",
    "warnings.filterwarnings('ignore')"
   ]
  },
  {
   "cell_type": "markdown",
   "metadata": {
    "id": "T2IaHpo2MhiO"
   },
   "source": [
    "## **Book Dataset**"
   ]
  },
  {
   "cell_type": "code",
   "execution_count": 422,
   "metadata": {
    "id": "WHVTOMpblJHP"
   },
   "outputs": [],
   "source": [
    "df = {'T100': ['I1', 'I2', 'I5'],\n",
    "      'T200': ['I2', 'I4'],\n",
    "      'T300': ['I2', 'I3'],\n",
    "      'T400': ['I1', 'I2', 'I4'],\n",
    "      'T500': ['I1', 'I3'],\n",
    "      'T600': ['I2', 'I3'],\n",
    "      'T700': ['I1', 'I3'],\n",
    "      'T800': ['I1', 'I2', 'I3', 'I5'],\n",
    "      'T900': ['I1', 'I2', 'I3']}"
   ]
  },
  {
   "cell_type": "code",
   "execution_count": 423,
   "metadata": {
    "id": "nFethx5NpW0M"
   },
   "outputs": [],
   "source": [
    "itemList = []"
   ]
  },
  {
   "cell_type": "code",
   "execution_count": 424,
   "metadata": {
    "id": "FQZWlP-0pZxA"
   },
   "outputs": [],
   "source": [
    "for i in df:\n",
    "  itemList.append(df[i])"
   ]
  },
  {
   "cell_type": "code",
   "execution_count": 425,
   "metadata": {
    "colab": {
     "base_uri": "https://localhost:8080/"
    },
    "id": "ECI2FZyIpZtc",
    "outputId": "8c143ed7-c9a4-4ff4-e7f7-6a463c4124e4"
   },
   "outputs": [
    {
     "data": {
      "text/plain": [
       "[['I1', 'I2', 'I5'],\n",
       " ['I2', 'I4'],\n",
       " ['I2', 'I3'],\n",
       " ['I1', 'I2', 'I4'],\n",
       " ['I1', 'I3'],\n",
       " ['I2', 'I3'],\n",
       " ['I1', 'I3'],\n",
       " ['I1', 'I2', 'I3', 'I5'],\n",
       " ['I1', 'I2', 'I3']]"
      ]
     },
     "execution_count": 425,
     "metadata": {},
     "output_type": "execute_result"
    }
   ],
   "source": [
    "itemList"
   ]
  },
  {
   "cell_type": "code",
   "execution_count": 426,
   "metadata": {
    "id": "GxNYRuH4qS_H"
   },
   "outputs": [],
   "source": [
    "min_support = 2"
   ]
  },
  {
   "cell_type": "code",
   "execution_count": 426,
   "metadata": {
    "id": "tEC5S0L-CnNK"
   },
   "outputs": [],
   "source": []
  },
  {
   "cell_type": "markdown",
   "metadata": {
    "id": "L_8ipNs6qIVv"
   },
   "source": [
    "## **Function to calculate first Frequent Item Set**"
   ]
  },
  {
   "cell_type": "code",
   "execution_count": 427,
   "metadata": {
    "id": "COIbKx0XpZrS"
   },
   "outputs": [],
   "source": [
    "def firstFrequentItemSet(itemList, min_support):\n",
    "  first_frequent_dict = {}\n",
    "  first_frequent_list = []\n",
    "  for items in itemList:\n",
    "    for item in items:\n",
    "      if item not in first_frequent_dict:\n",
    "        first_frequent_dict[item] = 1\n",
    "      else:\n",
    "        first_frequent_dict[item] += 1\n",
    "\n",
    "  for item in first_frequent_dict:\n",
    "    if first_frequent_dict[item] >= min_support:\n",
    "      first_frequent_list.append(([item], first_frequent_dict[item]))\n",
    "\n",
    "  return first_frequent_list"
   ]
  },
  {
   "cell_type": "code",
   "execution_count": 428,
   "metadata": {
    "id": "yIeyVAIJpZpl"
   },
   "outputs": [],
   "source": [
    "firstFrequentList = firstFrequentItemSet(itemList, min_support)"
   ]
  },
  {
   "cell_type": "code",
   "execution_count": 429,
   "metadata": {
    "colab": {
     "base_uri": "https://localhost:8080/"
    },
    "id": "urG2Y4lbpZn0",
    "outputId": "b08aad6a-558b-457a-92fc-90db7924ca3b"
   },
   "outputs": [
    {
     "data": {
      "text/plain": [
       "[(['I1'], 6), (['I2'], 7), (['I5'], 2), (['I4'], 2), (['I3'], 6)]"
      ]
     },
     "execution_count": 429,
     "metadata": {},
     "output_type": "execute_result"
    }
   ],
   "source": [
    "firstFrequentList"
   ]
  },
  {
   "cell_type": "code",
   "execution_count": 429,
   "metadata": {
    "id": "kccktT3OwcDw"
   },
   "outputs": [],
   "source": []
  },
  {
   "cell_type": "markdown",
   "metadata": {
    "id": "jBM0Xdn4wyIM"
   },
   "source": [
    "**All Frequent Item Sets**"
   ]
  },
  {
   "cell_type": "code",
   "execution_count": 430,
   "metadata": {
    "id": "hynOsYzvwcA_"
   },
   "outputs": [],
   "source": [
    "allFrequentItems = []\n",
    "allFrequentItemsWithSupport = []"
   ]
  },
  {
   "cell_type": "code",
   "execution_count": 431,
   "metadata": {
    "id": "G-Ms1_sYpZmP"
   },
   "outputs": [],
   "source": [
    "for item in firstFrequentList:\n",
    "  allFrequentItems.append(item[0])\n",
    "  allFrequentItemsWithSupport.append(item)"
   ]
  },
  {
   "cell_type": "code",
   "execution_count": 432,
   "metadata": {
    "colab": {
     "base_uri": "https://localhost:8080/"
    },
    "id": "ZAQDheiLwniy",
    "outputId": "3aaa19eb-e7f0-4403-e55c-92a7b68b452c"
   },
   "outputs": [
    {
     "data": {
      "text/plain": [
       "[['I1'], ['I2'], ['I5'], ['I4'], ['I3']]"
      ]
     },
     "execution_count": 432,
     "metadata": {},
     "output_type": "execute_result"
    }
   ],
   "source": [
    "allFrequentItems"
   ]
  },
  {
   "cell_type": "code",
   "execution_count": 433,
   "metadata": {
    "colab": {
     "base_uri": "https://localhost:8080/"
    },
    "id": "RqgRNPbDwevN",
    "outputId": "37807c40-bfea-425e-9432-b56cb2fc6332"
   },
   "outputs": [
    {
     "data": {
      "text/plain": [
       "[(['I1'], 6), (['I2'], 7), (['I5'], 2), (['I4'], 2), (['I3'], 6)]"
      ]
     },
     "execution_count": 433,
     "metadata": {},
     "output_type": "execute_result"
    }
   ],
   "source": [
    "allFrequentItemsWithSupport"
   ]
  },
  {
   "cell_type": "code",
   "execution_count": 433,
   "metadata": {
    "id": "KJG6NoPdC86B"
   },
   "outputs": [],
   "source": []
  },
  {
   "cell_type": "markdown",
   "metadata": {
    "id": "kaiS-oP2sSXO"
   },
   "source": [
    "## **Function to calculate Second Frequent Item SEt**"
   ]
  },
  {
   "cell_type": "code",
   "execution_count": 434,
   "metadata": {
    "id": "Jefb5SDGpZfJ"
   },
   "outputs": [],
   "source": [
    "def secondFrequentItemSet(firstFrequentList, itemList, min_support):\n",
    "  second_frequent_list = []\n",
    "\n",
    "  firstFreq = []\n",
    "\n",
    "  for item in firstFrequentList:\n",
    "    firstFreq.append(item[0][0])\n",
    "\n",
    "  # print(firstFreq)\n",
    "\n",
    "  for i in range(len(firstFreq)):\n",
    "    for j in range(i+1, len(firstFreq)):\n",
    "      item_1 = firstFreq[i]\n",
    "      item_2 = firstFreq[j]\n",
    "      pair = [item_1, item_2]\n",
    "      # print(pair)\n",
    "\n",
    "      pair_count = 0\n",
    "\n",
    "      for items in itemList:\n",
    "        if item_1 in items and item_2 in items:\n",
    "          pair_count += 1\n",
    "\n",
    "      if(pair_count >= min_support):\n",
    "        listi = [item_1, item_2]\n",
    "        listi.sort()\n",
    "        second_frequent_list.append((listi, pair_count))\n",
    "        # print(second_frequent_list)\n",
    "\n",
    "  return second_frequent_list"
   ]
  },
  {
   "cell_type": "code",
   "execution_count": 435,
   "metadata": {
    "id": "8cYvN5O7pZbZ"
   },
   "outputs": [],
   "source": [
    "secondFrequentList = secondFrequentItemSet(firstFrequentList, itemList, min_support)"
   ]
  },
  {
   "cell_type": "code",
   "execution_count": 436,
   "metadata": {
    "colab": {
     "base_uri": "https://localhost:8080/"
    },
    "id": "5y7kC-zFpZZL",
    "outputId": "7df3eb1c-6cdc-4fd9-c1ba-8185631f9076"
   },
   "outputs": [
    {
     "data": {
      "text/plain": [
       "[(['I1', 'I2'], 4),\n",
       " (['I1', 'I5'], 2),\n",
       " (['I1', 'I3'], 4),\n",
       " (['I2', 'I5'], 2),\n",
       " (['I2', 'I4'], 2),\n",
       " (['I2', 'I3'], 4)]"
      ]
     },
     "execution_count": 436,
     "metadata": {},
     "output_type": "execute_result"
    }
   ],
   "source": [
    "secondFrequentList"
   ]
  },
  {
   "cell_type": "code",
   "execution_count": 436,
   "metadata": {
    "id": "Z0eoSC03pZWu"
   },
   "outputs": [],
   "source": []
  },
  {
   "cell_type": "markdown",
   "metadata": {
    "id": "HAd12kXDw1OC"
   },
   "source": [
    "**Appending in All frequent Item SEts**"
   ]
  },
  {
   "cell_type": "code",
   "execution_count": 437,
   "metadata": {
    "id": "U-FnC7erwrrH"
   },
   "outputs": [],
   "source": [
    "for item in secondFrequentList:\n",
    "  allFrequentItems.append(item[0])\n",
    "  allFrequentItemsWithSupport.append(item)"
   ]
  },
  {
   "cell_type": "code",
   "execution_count": 438,
   "metadata": {
    "colab": {
     "base_uri": "https://localhost:8080/"
    },
    "id": "BYgnRx47wrrI",
    "outputId": "246e33be-72a0-449f-c7d7-16a5e2a133dd"
   },
   "outputs": [
    {
     "data": {
      "text/plain": [
       "[['I1'],\n",
       " ['I2'],\n",
       " ['I5'],\n",
       " ['I4'],\n",
       " ['I3'],\n",
       " ['I1', 'I2'],\n",
       " ['I1', 'I5'],\n",
       " ['I1', 'I3'],\n",
       " ['I2', 'I5'],\n",
       " ['I2', 'I4'],\n",
       " ['I2', 'I3']]"
      ]
     },
     "execution_count": 438,
     "metadata": {},
     "output_type": "execute_result"
    }
   ],
   "source": [
    "allFrequentItems"
   ]
  },
  {
   "cell_type": "code",
   "execution_count": 439,
   "metadata": {
    "colab": {
     "base_uri": "https://localhost:8080/"
    },
    "id": "8Jq61eTHxCkR",
    "outputId": "6f5953fe-a96e-4396-887d-50f946faa7b5"
   },
   "outputs": [
    {
     "data": {
      "text/plain": [
       "[(['I1'], 6),\n",
       " (['I2'], 7),\n",
       " (['I5'], 2),\n",
       " (['I4'], 2),\n",
       " (['I3'], 6),\n",
       " (['I1', 'I2'], 4),\n",
       " (['I1', 'I5'], 2),\n",
       " (['I1', 'I3'], 4),\n",
       " (['I2', 'I5'], 2),\n",
       " (['I2', 'I4'], 2),\n",
       " (['I2', 'I3'], 4)]"
      ]
     },
     "execution_count": 439,
     "metadata": {},
     "output_type": "execute_result"
    }
   ],
   "source": [
    "allFrequentItemsWithSupport"
   ]
  },
  {
   "cell_type": "code",
   "execution_count": 439,
   "metadata": {
    "id": "215mE62kDAaJ"
   },
   "outputs": [],
   "source": []
  },
  {
   "cell_type": "markdown",
   "metadata": {
    "id": "kGDTJ0TbxD3A"
   },
   "source": [
    "**Unique Items**"
   ]
  },
  {
   "cell_type": "code",
   "execution_count": 440,
   "metadata": {
    "id": "wyvgaY18xMs8"
   },
   "outputs": [],
   "source": [
    "unique = []"
   ]
  },
  {
   "cell_type": "code",
   "execution_count": 441,
   "metadata": {
    "id": "OHa3YJTNxCgy"
   },
   "outputs": [],
   "source": [
    "for item in firstFrequentList:\n",
    "  unique.append(item[0][0])"
   ]
  },
  {
   "cell_type": "code",
   "execution_count": 442,
   "metadata": {
    "colab": {
     "base_uri": "https://localhost:8080/"
    },
    "id": "uIrioilkxCeq",
    "outputId": "8267f1e5-3594-4bd1-ac71-9231f1fa7e3b"
   },
   "outputs": [
    {
     "data": {
      "text/plain": [
       "['I1', 'I2', 'I5', 'I4', 'I3']"
      ]
     },
     "execution_count": 442,
     "metadata": {},
     "output_type": "execute_result"
    }
   ],
   "source": [
    "unique"
   ]
  },
  {
   "cell_type": "code",
   "execution_count": 442,
   "metadata": {
    "id": "krsiP_ukxCcU"
   },
   "outputs": [],
   "source": []
  },
  {
   "cell_type": "markdown",
   "metadata": {
    "id": "8OGrFWn6xel1"
   },
   "source": [
    "## **Pruning**  \n",
    "**Checking that the item present in the frequentItemset or not**"
   ]
  },
  {
   "cell_type": "code",
   "execution_count": 443,
   "metadata": {
    "id": "PSYVR_TPxTK0"
   },
   "outputs": [],
   "source": [
    "def is_apriori(item_sets, union):\n",
    "    for item in union:\n",
    "        subset = union.copy()\n",
    "        subset.remove(item)\n",
    "        # print(subset)\n",
    "        if subset not in item_sets:\n",
    "          return False\n",
    "    return True"
   ]
  },
  {
   "cell_type": "code",
   "execution_count": 443,
   "metadata": {
    "id": "yi4gMPLgxTHT"
   },
   "outputs": [],
   "source": []
  },
  {
   "cell_type": "markdown",
   "metadata": {
    "id": "lyFBgWoL368G"
   },
   "source": [
    "## **Frequent Item Set for 3 or greater**"
   ]
  },
  {
   "cell_type": "code",
   "execution_count": 444,
   "metadata": {
    "id": "2kTgEEa94YeQ"
   },
   "outputs": [],
   "source": [
    "from itertools import combinations"
   ]
  },
  {
   "cell_type": "code",
   "execution_count": 445,
   "metadata": {
    "id": "KQBcDLJq30hB"
   },
   "outputs": [],
   "source": [
    "def threeOrGreater(unique, itemList, allFrequentItems, min_support):\n",
    "  for size in range(3, len(unique)+1):\n",
    "\n",
    "    dontKnowList = []\n",
    "\n",
    "    for item_set in combinations(unique, size):\n",
    "      # print(item_set)\n",
    "\n",
    "      pair_count = 0\n",
    "\n",
    "      for items in itemList:\n",
    "        if set(item_set).issubset(items):\n",
    "          pair_count += 1\n",
    "\n",
    "      if(pair_count >= min_support):\n",
    "        if is_apriori(allFrequentItems, list(item_set)):\n",
    "          dontKnowList.append((list(item_set), pair_count))\n",
    "\n",
    "    print(f\"{size} Frequent Item Set\")\n",
    "    print(\"---------------------\")\n",
    "    print(dontKnowList)\n",
    "    print(\"---------------------\")\n",
    "    print(\"---------------------\")\n",
    "\n",
    "    for item in dontKnowList:\n",
    "      allFrequentItems.append(item[0])\n",
    "      allFrequentItemsWithSupport.append(item)\n",
    "    \n",
    "    if(len(dontKnowList) == 0):\n",
    "      break"
   ]
  },
  {
   "cell_type": "code",
   "execution_count": 446,
   "metadata": {
    "colab": {
     "base_uri": "https://localhost:8080/"
    },
    "id": "inxi3_nk30ds",
    "outputId": "9b195824-9238-43c8-e0ca-ae3a93f9f518"
   },
   "outputs": [
    {
     "name": "stdout",
     "output_type": "stream",
     "text": [
      "3 Frequent Item Set\n",
      "---------------------\n",
      "[(['I1', 'I2', 'I5'], 2), (['I1', 'I2', 'I3'], 2)]\n",
      "---------------------\n",
      "---------------------\n",
      "4 Frequent Item Set\n",
      "---------------------\n",
      "[]\n",
      "---------------------\n",
      "---------------------\n"
     ]
    }
   ],
   "source": [
    "threeOrGreater(unique, itemList, allFrequentItems, min_support)"
   ]
  },
  {
   "cell_type": "code",
   "execution_count": 447,
   "metadata": {
    "colab": {
     "base_uri": "https://localhost:8080/"
    },
    "id": "pQB_MpnI30b2",
    "outputId": "2cee459f-2963-46c0-b409-2882bf5343e3"
   },
   "outputs": [
    {
     "data": {
      "text/plain": [
       "[['I1'],\n",
       " ['I2'],\n",
       " ['I5'],\n",
       " ['I4'],\n",
       " ['I3'],\n",
       " ['I1', 'I2'],\n",
       " ['I1', 'I5'],\n",
       " ['I1', 'I3'],\n",
       " ['I2', 'I5'],\n",
       " ['I2', 'I4'],\n",
       " ['I2', 'I3'],\n",
       " ['I1', 'I2', 'I5'],\n",
       " ['I1', 'I2', 'I3']]"
      ]
     },
     "execution_count": 447,
     "metadata": {},
     "output_type": "execute_result"
    }
   ],
   "source": [
    "allFrequentItems"
   ]
  },
  {
   "cell_type": "code",
   "execution_count": 448,
   "metadata": {
    "colab": {
     "base_uri": "https://localhost:8080/"
    },
    "id": "c5N88KYF30Zf",
    "outputId": "7b4b0808-98f4-4652-be8a-291f53a911ff"
   },
   "outputs": [
    {
     "data": {
      "text/plain": [
       "[(['I1'], 6),\n",
       " (['I2'], 7),\n",
       " (['I5'], 2),\n",
       " (['I4'], 2),\n",
       " (['I3'], 6),\n",
       " (['I1', 'I2'], 4),\n",
       " (['I1', 'I5'], 2),\n",
       " (['I1', 'I3'], 4),\n",
       " (['I2', 'I5'], 2),\n",
       " (['I2', 'I4'], 2),\n",
       " (['I2', 'I3'], 4),\n",
       " (['I1', 'I2', 'I5'], 2),\n",
       " (['I1', 'I2', 'I3'], 2)]"
      ]
     },
     "execution_count": 448,
     "metadata": {},
     "output_type": "execute_result"
    }
   ],
   "source": [
    "allFrequentItemsWithSupport"
   ]
  }
 ],
 "metadata": {
  "colab": {
   "provenance": []
  },
  "kernelspec": {
   "display_name": "Python 3 (ipykernel)",
   "language": "python",
   "name": "python3"
  },
  "language_info": {
   "codemirror_mode": {
    "name": "ipython",
    "version": 3
   },
   "file_extension": ".py",
   "mimetype": "text/x-python",
   "name": "python",
   "nbconvert_exporter": "python",
   "pygments_lexer": "ipython3",
   "version": "3.9.7"
  }
 },
 "nbformat": 4,
 "nbformat_minor": 1
}
